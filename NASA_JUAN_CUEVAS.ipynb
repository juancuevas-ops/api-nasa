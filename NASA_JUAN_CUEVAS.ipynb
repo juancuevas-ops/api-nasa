{
 "cells": [
  {
   "cell_type": "code",
   "execution_count": null,
   "metadata": {},
   "outputs": [],
   "source": [
    "import requests\n",
    "import json\n",
    "import webbrowser\n",
    "\n",
    "def photos_count():\n",
    "    \n",
    "    params = {\"earth_date\":\"2016-10-17\", \"api_key\":\"DEMO_KEY\"}\n",
    "    f = r\"https://api.nasa.gov/mars-photos/api/v1/rovers/curiosity/photos?\"\n",
    "    data = requests.get(f, params = params)\n",
    "    a = json.loads(data.text)\n",
    "    \n",
    "    for i in a[\"photos\"]:\n",
    "        print(i, \"\\n\\n\\n\")\n",
    "    \n",
    "        b = a[\"photos\"][3][\"img_src\"]\n",
    "        print(a[\"photos\"][1][\"img_src\"])\n",
    "    \n",
    "    webbrowser.open(b)\n",
    "\n",
    "photos_count()"
   ]
  },
  {
   "cell_type": "markdown",
   "metadata": {},
   "source": [
    "#VALOR AGREGADO A MI TRABAJO DE INVESTIGACION, APARTE DE LAS IMAGENES QUIZE AGREGAR DATOS RELEVANTES DE LA NASA.\n",
    "NOTA SOLO 30 PETICIONES POR HORA CON DEMO_API.PARA CONECTARSE ATRAVEZ DE UNA APLICACION SE SOLICITA OTRO TIPO DE TOKEN.\n",
    "EN ESTE CASO USO TOKEN PROPIO IBTENIDO DESDE LA WEB DE LA NASA."
   ]
  },
  {
   "cell_type": "code",
   "execution_count": null,
   "metadata": {},
   "outputs": [],
   "source": [
    "import requests\n",
    "from urllib.request import urlretrieve \n",
    "from pprint import PrettyPrinter "
   ]
  },
  {
   "cell_type": "code",
   "execution_count": null,
   "metadata": {},
   "outputs": [],
   "source": [
    "pp = PrettyPrinter () \n",
    "pp = PrettyPrinter ()"
   ]
  },
  {
   "cell_type": "code",
   "execution_count": null,
   "metadata": {},
   "outputs": [],
   "source": [
    "api_Key = 'zgf3o2itLwmFHohd6Lm5cncB95ZVH7OfivY7jC5G'"
   ]
  },
  {
   "cell_type": "code",
   "execution_count": null,
   "metadata": {},
   "outputs": [],
   "source": [
    "def fetchAsteroidNeowsLookup (): \n",
    "  asteroid_id = '3542519' \n",
    "  URL_NeoLookup = \" https://api.nasa.gov/neo/rest/v1/neo/ \" + asteroid_id \n",
    "  params = { \n",
    "      'api_key':'zgf3o2itLwmFHohd6Lm5cncB95ZVH7OfivY7jC5G' \n",
    "  } \n",
    "  respuesta = requests.get ('http://www.neowsapp.com/rest/v1/neo/3986748? ', params = params) .json () \n",
    "  pp.pprint (respuesta) \n",
    "fetchAsteroidNeowsLookup ()"
   ]
  },
  {
   "cell_type": "code",
   "execution_count": null,
   "metadata": {},
   "outputs": [],
   "source": [
    "def fetchAsteroidNeowsFeed (): \n",
    "  URL_NeoFeed =  r\"https://api.nasa.gov/mars-photos/api/v1/rovers/curiosity/photos?\"  \n",
    "  params = { \n",
    "      'api_key': 'zgf3o2itLwmFHohd6Lm5cncB95ZVH7OfivY7jC5G', \n",
    "      'start_date': '2020-01-22', \n",
    "      'end_date' : '2020-01-23' \n",
    "  } \n",
    "  respuesta = requests.get ('https://api.nasa.gov/neo/rest/v1/feed', params = params) .json () \n",
    "  pp.pprint (respuesta) \n",
    "fetchAsteroidNeowsFeed ()"
   ]
  },
  {
   "cell_type": "markdown",
   "metadata": {},
   "source": [
    "#SE DEBEN INSTALAR LAS SIGUENTES LIBRERIAS PARA EJECUTAR ESTE NOTEBOOK\n",
    "#!pip install pprint urllib3\n",
    "#import requests\n",
    "#from urllib.request import urlretrieve \n",
    "#from pprint import PrettyPrinter "
   ]
  },
  {
   "cell_type": "code",
   "execution_count": null,
   "metadata": {},
   "outputs": [],
   "source": []
  }
 ],
 "metadata": {
  "kernelspec": {
   "display_name": "Python 3",
   "language": "python",
   "name": "python3"
  },
  "language_info": {
   "codemirror_mode": {
    "name": "ipython",
    "version": 3
   },
   "file_extension": ".py",
   "mimetype": "text/x-python",
   "name": "python",
   "nbconvert_exporter": "python",
   "pygments_lexer": "ipython3",
   "version": "3.7.4"
  }
 },
 "nbformat": 4,
 "nbformat_minor": 4
}
